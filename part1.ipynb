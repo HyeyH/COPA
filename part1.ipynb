{
  "nbformat": 4,
  "nbformat_minor": 0,
  "metadata": {
    "colab": {
      "provenance": [],
      "collapsed_sections": [
        "EBBT6A4pjvAb",
        "LLoACFrjj2Fp",
        "RBac8yl2ksDD"
      ],
      "toc_visible": true,
      "authorship_tag": "ABX9TyPooPDTrGfFtonU7kCJ315A",
      "include_colab_link": true
    },
    "kernelspec": {
      "name": "python3",
      "display_name": "Python 3"
    },
    "language_info": {
      "name": "python"
    }
  },
  "cells": [
    {
      "cell_type": "markdown",
      "metadata": {
        "id": "view-in-github",
        "colab_type": "text"
      },
      "source": [
        "<a href=\"https://colab.research.google.com/github/HyeyH/COPA/blob/main/part1.ipynb\" target=\"_parent\"><img src=\"https://colab.research.google.com/assets/colab-badge.svg\" alt=\"Open In Colab\"/></a>"
      ]
    },
    {
      "cell_type": "markdown",
      "source": [
        "# 약수 구하기\n"
      ],
      "metadata": {
        "id": "EBBT6A4pjvAb"
      }
    },
    {
      "cell_type": "code",
      "execution_count": null,
      "metadata": {
        "colab": {
          "base_uri": "https://localhost:8080/"
        },
        "id": "AUvq6tw62Qop",
        "outputId": "58113a9d-be23-4a83-9e45-e98778743a69"
      },
      "outputs": [
        {
          "output_type": "stream",
          "name": "stdout",
          "text": [
            "6 3\n",
            "3\n"
          ]
        }
      ],
      "source": [
        "# 약수 구하기 브3\n",
        "n, k = input().split()\n",
        "n = int(n)\n",
        "k = int(k)\n",
        "\n",
        "div = []\n",
        "for i in range(n):\n",
        "  if n%(i+1) == 0:\n",
        "    div.append(i+1)\n",
        "\n",
        "if len(div) < k:\n",
        "  print(0)\n",
        "else:\n",
        "  print(div[k-1])\n",
        "# 출처: https://calkolab.tistory.com/entry/baekjoon-python-2501 [CALKO LAB:티스토리]\n",
        "\n",
        "N, K = map(int, input().split())\n",
        "lst = []\n",
        "for i in range(1, N + 1):\n",
        "  if N % i == 0:\n",
        "    lst.append(i)\n",
        "\n",
        "if len(lst) < K:  # 약수의 개수가 K보다 작을 때\n",
        "  print(0)\n",
        "else:\n",
        "  print(lst[K - 1])  # 인덱스 번호에 맞춰서 K-1번째로 해야함"
      ]
    },
    {
      "cell_type": "code",
      "source": [
        "# 출처: https://calkolab.tistory.com/entry/baekjoon-python-2501 [CALKO LAB:티스토리]\n",
        "\n",
        "N, K = map(int, input().split())\n",
        "lst = []\n",
        "for i in range(1, N + 1):\n",
        "  if N % i == 0:\n",
        "    lst.append(i)\n",
        "\n",
        "if len(lst) < K:  # 약수의 개수가 K보다 작을 때\n",
        "  print(0)\n",
        "else:\n",
        "  print(lst[K - 1])  # 인덱스 번호에 맞춰서 K-1번째로 해야함"
      ],
      "metadata": {
        "id": "RN4AL73Wgkp3"
      },
      "execution_count": null,
      "outputs": []
    },
    {
      "cell_type": "markdown",
      "source": [
        "# 이진수에서 1 출력"
      ],
      "metadata": {
        "id": "LLoACFrjj2Fp"
      }
    },
    {
      "cell_type": "code",
      "source": [
        "# 이진수 브3\n",
        "# 테스트 케이스에 대해 1의 위치를 공백으로 구분해 줄 하나에 출력\n",
        "# 위치가 낮은 것부터\n",
        "# 예) 1 13 -> 0 2 3\n",
        "n_idx = []\n",
        "\n",
        "T = int(input())\n",
        "for t in range(T):\n",
        "  n = int(input())\n",
        "  for i in range(0, n):\n",
        "    if (2**i) < n:\n",
        "      n_idx.append(2**i)\n",
        "    else:\n",
        "      break\n",
        "  temp = n\n",
        "  for i in range(len(n_idx) - 1, 0, -1):\n",
        "    if n_idx[i] < temp:\n",
        "      temp -= n_idx[i]\n",
        "    else:\n",
        "      n_idx[i] = 0\n",
        "\n",
        "  string = \"\"\n",
        "  for i in range(len(n_idx)):\n",
        "    if n_idx[i] != 0:\n",
        "      string = string + str(i) + \" \"\n",
        "  print(string)"
      ],
      "metadata": {
        "colab": {
          "base_uri": "https://localhost:8080/"
        },
        "id": "DFmQ-A7428Sp",
        "outputId": "be1633fc-3cfb-4d73-f9ca-4bb663f07fb0"
      },
      "execution_count": null,
      "outputs": [
        {
          "output_type": "stream",
          "name": "stdout",
          "text": [
            "1\n",
            "16\n",
            "4 \n"
          ]
        }
      ]
    },
    {
      "cell_type": "code",
      "source": [
        "# 수정 버전\n",
        "T = int(input())\n",
        "for t in range(T):\n",
        "  n = int(input())\n",
        "  n_idx = []  # 각 테스트 케이스마다 n_idx를 초기화\n",
        "  for i in range(0, n):\n",
        "    if (2**i) < n:\n",
        "      n_idx.append(2**i)\n",
        "    else:\n",
        "      break\n",
        "  temp = n\n",
        "  for i in range(len(n_idx) - 1, -1, -1):  # 시작 인덱스 수정\n",
        "    if n_idx[i] <= temp:  # 조건 수정\n",
        "      temp -= n_idx[i]\n",
        "    else:\n",
        "      n_idx[i] = 0\n",
        "\n",
        "  string = \"\"\n",
        "  for i in range(len(n_idx)):\n",
        "    if n_idx[i] != 0:\n",
        "      string = string + str(i) + \" \"\n",
        "  print(string.strip())  # 마지막 공백 제거"
      ],
      "metadata": {
        "colab": {
          "base_uri": "https://localhost:8080/"
        },
        "id": "MgL1Mtbef44i",
        "outputId": "1ca04b91-aff3-41e1-df24-1b49dbac51d0"
      },
      "execution_count": null,
      "outputs": [
        {
          "output_type": "stream",
          "name": "stdout",
          "text": [
            "1\n",
            "13\n",
            "0 2 3\n"
          ]
        }
      ]
    },
    {
      "cell_type": "code",
      "source": [
        "# https://jinho-study.tistory.com/487\n",
        "\n",
        "for _ in range(int(input())):\n",
        "    n = int(input())\n",
        "    b = bin(n)[2:]\n",
        "    for i in range(len(b)):\n",
        "        if b[::-1][i] == '1':\n",
        "            print(i, end=' ')\n",
        "\n"
      ],
      "metadata": {
        "colab": {
          "base_uri": "https://localhost:8080/"
        },
        "id": "PHJdq2LCgwht",
        "outputId": "e13cde22-491b-4613-f726-f4c181c9dd7e"
      },
      "execution_count": null,
      "outputs": [
        {
          "output_type": "stream",
          "name": "stdout",
          "text": [
            "1\n",
            "13\n",
            "0 2 3 2\n",
            "25\n",
            "0 3 4 13\n",
            "0 2 3 "
          ]
        }
      ]
    },
    {
      "cell_type": "code",
      "source": [
        "temp = bin(13)[2:]\n",
        "for i in range(len(temp)):\n",
        "  if b[::-1][i] == '1':\n",
        "    print(i, end=' ')"
      ],
      "metadata": {
        "colab": {
          "base_uri": "https://localhost:8080/"
        },
        "id": "S0QfArxujDPF",
        "outputId": "7471ead4-da1f-47d7-b05e-1b9f24a669dd"
      },
      "execution_count": null,
      "outputs": [
        {
          "output_type": "stream",
          "name": "stdout",
          "text": [
            "0 2 3 "
          ]
        }
      ]
    },
    {
      "cell_type": "code",
      "source": [
        "# https://jinho-study.tistory.com/487\n",
        "for _ in range(int(input())):\n",
        "    n = int(input())\n",
        "    i = 0\n",
        "    while n > 0:\n",
        "        if n%2 == 1:\n",
        "            print(i, end=' ')\n",
        "        n = n//2\n",
        "        i += 1"
      ],
      "metadata": {
        "id": "C5Vf6YfYixOl"
      },
      "execution_count": null,
      "outputs": []
    },
    {
      "cell_type": "markdown",
      "source": [
        "# 최소 최대"
      ],
      "metadata": {
        "id": "RBac8yl2ksDD"
      }
    },
    {
      "cell_type": "code",
      "source": [
        "# 숫자 갯수 n, 최소 최대 공백 구분 출력\n",
        "n = int(input())\n",
        "nums = list(map(int, input().split()))\n",
        "min, max = nums[0], nums[0]\n",
        "for i in range(len(nums)):\n",
        "  tmp = nums[i]\n",
        "  if min > tmp:\n",
        "    min = tmp\n",
        "  if max < tmp:\n",
        "    max = tmp\n",
        "print(min, max, end=' ')"
      ],
      "metadata": {
        "colab": {
          "base_uri": "https://localhost:8080/"
        },
        "id": "nzr5IwSsku0Z",
        "outputId": "62b32fdf-078f-467b-a629-9b3d22f334c1"
      },
      "execution_count": null,
      "outputs": [
        {
          "output_type": "stream",
          "name": "stdout",
          "text": [
            "5\n",
            "10 20 40 50 60\n",
            "10 60 "
          ]
        }
      ]
    },
    {
      "cell_type": "code",
      "source": [
        "# https://bambbang00.tistory.com/12\n",
        "cnt = int(input())\n",
        "numbers = list(map(int, input().split()))\n",
        "max = numbers[0]\n",
        "min = numbers[0]\n",
        "\n",
        "for i in numbers[1:]:\n",
        "  if i > max:\n",
        "    max = i\n",
        "  elif i < min:\n",
        "    min = i\n",
        "\n",
        "print(min, max)"
      ],
      "metadata": {
        "colab": {
          "base_uri": "https://localhost:8080/"
        },
        "id": "11VSGaaUsCi9",
        "outputId": "52725c9e-afb2-4ed1-ab70-29dd125669f1"
      },
      "execution_count": null,
      "outputs": [
        {
          "output_type": "stream",
          "name": "stdout",
          "text": [
            "2\n",
            "59 2\n",
            "2 59\n"
          ]
        }
      ]
    },
    {
      "cell_type": "code",
      "source": [
        "# https://bambbang00.tistory.com/12\n",
        "cnt = int(input())\n",
        "nums = list(map(int, input().split()))\n",
        "print(min(nums), max(nums))"
      ],
      "metadata": {
        "colab": {
          "base_uri": "https://localhost:8080/"
        },
        "id": "R1CkefTFssYy",
        "outputId": "49dbb0a3-aac8-44e6-df2d-243f861901f7"
      },
      "execution_count": null,
      "outputs": [
        {
          "output_type": "stream",
          "name": "stdout",
          "text": [
            "4\n",
            "10 20 3 2\n",
            "2 20\n"
          ]
        }
      ]
    },
    {
      "cell_type": "markdown",
      "source": [
        "# 지능형 기차"
      ],
      "metadata": {
        "id": "d0MDO1QNYgjW"
      }
    },
    {
      "cell_type": "code",
      "source": [
        "# my solution\n",
        "sum = 0\n",
        "max = 0\n",
        "for i in range(10):\n",
        "    n_out, n_in = map(int, input().split())\n",
        "    sum -= n_out\n",
        "    sum += n_in\n",
        "    if max < sum: max = sum\n",
        "print(max)\n",
        "\n",
        "# other solutions\n",
        "# https://rladuddms.tistory.com/104\n",
        "# 1 - 정거장 당 총 인원 수를 배열에 저장한 후 sort\n",
        "num = 0 # 현재 기차에 있는 사람 수\n",
        "result = [] # 정거장당 사람 수 리스트로 저장하기\n",
        "\n",
        "for i in range(1,11):\n",
        "    down, up = list(map(int,input().split()))\n",
        "    num = num - down + up # 내리고 타기\n",
        "    result.append(num)\n",
        "\n",
        "result.sort()\n",
        "print(result[-1]) # 가장 많았던 사람수\n",
        "\n",
        "# 2 - max 활용\n",
        "passenger = 0\n",
        "max_passenger = 0\n",
        "\n",
        "for _ in range(10):\n",
        "    out_train, in_train  = map(int, input().split())\n",
        "    passenger += in_train - out_train\n",
        "    max_passenger = max(passenger, max_passenger)\n",
        "\n",
        "print(max_passenger)"
      ],
      "metadata": {
        "id": "TOHnNwunYnDD"
      },
      "execution_count": null,
      "outputs": []
    }
  ]
}