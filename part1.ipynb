{
  "nbformat": 4,
  "nbformat_minor": 0,
  "metadata": {
    "colab": {
      "provenance": [],
      "authorship_tag": "ABX9TyMERHvujP1PNhqH/SHHY4xF",
      "include_colab_link": true
    },
    "kernelspec": {
      "name": "python3",
      "display_name": "Python 3"
    },
    "language_info": {
      "name": "python"
    }
  },
  "cells": [
    {
      "cell_type": "markdown",
      "metadata": {
        "id": "view-in-github",
        "colab_type": "text"
      },
      "source": [
        "<a href=\"https://colab.research.google.com/github/HyeyH/CTP/blob/main/part1.ipynb\" target=\"_parent\"><img src=\"https://colab.research.google.com/assets/colab-badge.svg\" alt=\"Open In Colab\"/></a>"
      ]
    },
    {
      "cell_type": "code",
      "execution_count": 30,
      "metadata": {
        "colab": {
          "base_uri": "https://localhost:8080/"
        },
        "id": "AUvq6tw62Qop",
        "outputId": "58113a9d-be23-4a83-9e45-e98778743a69"
      },
      "outputs": [
        {
          "output_type": "stream",
          "name": "stdout",
          "text": [
            "6 3\n",
            "3\n"
          ]
        }
      ],
      "source": [
        "# 약수 구하기 브3\n",
        "n, k = input().split()\n",
        "n = int(n)\n",
        "k = int(k)\n",
        "\n",
        "div = []\n",
        "for i in range(n):\n",
        "  if n%(i+1) == 0:\n",
        "    div.append(i+1)\n",
        "\n",
        "if len(div) < k:\n",
        "  print(0)\n",
        "else:\n",
        "  print(div[k-1])"
      ]
    },
    {
      "cell_type": "code",
      "source": [],
      "metadata": {
        "id": "DFmQ-A7428Sp"
      },
      "execution_count": null,
      "outputs": []
    }
  ]
}